{
 "cells": [
  {
   "metadata": {},
   "cell_type": "markdown",
   "source": [
    "# Data manipulation\n",
    "\n",
    "## Tensors"
   ],
   "id": "6070e23534d1881c"
  },
  {
   "metadata": {
    "ExecuteTime": {
     "end_time": "2025-04-04T12:42:13.260733Z",
     "start_time": "2025-04-04T12:42:13.257813Z"
    }
   },
   "cell_type": "code",
   "source": "import torch",
   "id": "a5797dcafb644e48",
   "outputs": [],
   "execution_count": 123
  },
  {
   "metadata": {
    "ExecuteTime": {
     "end_time": "2025-04-04T12:42:13.311873Z",
     "start_time": "2025-04-04T12:42:13.306335Z"
    }
   },
   "cell_type": "code",
   "source": [
    "x = torch.arange(12, dtype=torch.float32) # vector (1D tensor)\n",
    "x"
   ],
   "id": "9528c7140ba28253",
   "outputs": [
    {
     "data": {
      "text/plain": [
       "tensor([ 0.,  1.,  2.,  3.,  4.,  5.,  6.,  7.,  8.,  9., 10., 11.])"
      ]
     },
     "execution_count": 124,
     "metadata": {},
     "output_type": "execute_result"
    }
   ],
   "execution_count": 124
  },
  {
   "metadata": {
    "ExecuteTime": {
     "end_time": "2025-04-04T12:42:13.362977Z",
     "start_time": "2025-04-04T12:42:13.356669Z"
    }
   },
   "cell_type": "code",
   "source": [
    "print(f\"\"\"\n",
    "end exclusive\n",
    "\n",
    "{torch.arange(end=5)}\n",
    "{torch.arange(5)}\n",
    "{torch.arange(start=1, end=10)}\n",
    "{torch.arange(start=1, end=10, step=2)}\n",
    "{torch.arange(start=0, end=10, step=2)}\n",
    "\"\"\")"
   ],
   "id": "e9ca7b1dff8183e7",
   "outputs": [
    {
     "name": "stdout",
     "output_type": "stream",
     "text": [
      "\n",
      "end exclusive\n",
      "\n",
      "tensor([0, 1, 2, 3, 4])\n",
      "tensor([0, 1, 2, 3, 4])\n",
      "tensor([1, 2, 3, 4, 5, 6, 7, 8, 9])\n",
      "tensor([1, 3, 5, 7, 9])\n",
      "tensor([0, 2, 4, 6, 8])\n",
      "\n"
     ]
    }
   ],
   "execution_count": 125
  },
  {
   "metadata": {
    "ExecuteTime": {
     "end_time": "2025-04-04T12:42:13.414032Z",
     "start_time": "2025-04-04T12:42:13.410194Z"
    }
   },
   "cell_type": "code",
   "source": "x.numel() # number of elements",
   "id": "2be1e24d4debaaf6",
   "outputs": [
    {
     "data": {
      "text/plain": [
       "12"
      ]
     },
     "execution_count": 126,
     "metadata": {},
     "output_type": "execute_result"
    }
   ],
   "execution_count": 126
  },
  {
   "metadata": {
    "ExecuteTime": {
     "end_time": "2025-04-04T12:42:13.481496Z",
     "start_time": "2025-04-04T12:42:13.477555Z"
    }
   },
   "cell_type": "code",
   "source": "x.shape # size along each axis",
   "id": "b995c4b0bfdd197a",
   "outputs": [
    {
     "data": {
      "text/plain": [
       "torch.Size([12])"
      ]
     },
     "execution_count": 127,
     "metadata": {},
     "output_type": "execute_result"
    }
   ],
   "execution_count": 127
  },
  {
   "metadata": {
    "ExecuteTime": {
     "end_time": "2025-04-04T12:42:13.533106Z",
     "start_time": "2025-04-04T12:42:13.528642Z"
    }
   },
   "cell_type": "code",
   "source": [
    "X = x.reshape(3, 4) # reshape vector into a matrix (2D tensor)\n",
    "print(X)"
   ],
   "id": "2a87407f07ab5d0b",
   "outputs": [
    {
     "name": "stdout",
     "output_type": "stream",
     "text": [
      "tensor([[ 0.,  1.,  2.,  3.],\n",
      "        [ 4.,  5.,  6.,  7.],\n",
      "        [ 8.,  9., 10., 11.]])\n"
     ]
    }
   ],
   "execution_count": 128
  },
  {
   "metadata": {},
   "cell_type": "markdown",
   "source": [
    "Lahko ugotovi, kateri dimenzije so primerne, če mu podamo velikost samo ene smeri.\n",
    "\n",
    "-1 podamo tam, kjer naj sam ugotovi iz števila elementov in druge podane smeri."
   ],
   "id": "3afa91e5770ed014"
  },
  {
   "metadata": {
    "ExecuteTime": {
     "end_time": "2025-04-04T12:42:13.585280Z",
     "start_time": "2025-04-04T12:42:13.579991Z"
    }
   },
   "cell_type": "code",
   "source": [
    "print(x.reshape(-1, 4))\n",
    "print(x.reshape(3, -1))"
   ],
   "id": "c23e1304073cd9ee",
   "outputs": [
    {
     "name": "stdout",
     "output_type": "stream",
     "text": [
      "tensor([[ 0.,  1.,  2.,  3.],\n",
      "        [ 4.,  5.,  6.,  7.],\n",
      "        [ 8.,  9., 10., 11.]])\n",
      "tensor([[ 0.,  1.,  2.,  3.],\n",
      "        [ 4.,  5.,  6.,  7.],\n",
      "        [ 8.,  9., 10., 11.]])\n"
     ]
    }
   ],
   "execution_count": 129
  },
  {
   "metadata": {
    "ExecuteTime": {
     "end_time": "2025-04-04T12:42:13.634484Z",
     "start_time": "2025-04-04T12:42:13.629545Z"
    }
   },
   "cell_type": "code",
   "source": [
    "print(torch.zeros(3, 4)) # matrix of zeros\n",
    "print(torch.ones(4, 3)) # matrix of ones\n"
   ],
   "id": "576e2aa426b6c4eb",
   "outputs": [
    {
     "name": "stdout",
     "output_type": "stream",
     "text": [
      "tensor([[0., 0., 0., 0.],\n",
      "        [0., 0., 0., 0.],\n",
      "        [0., 0., 0., 0.]])\n",
      "tensor([[1., 1., 1.],\n",
      "        [1., 1., 1.],\n",
      "        [1., 1., 1.],\n",
      "        [1., 1., 1.]])\n"
     ]
    }
   ],
   "execution_count": 130
  },
  {
   "metadata": {},
   "cell_type": "markdown",
   "source": "`randn` randomly sampla vrednosti iz normalne porazdelitve (mean = 0, std = 1).",
   "id": "570b48ce8444b13d"
  },
  {
   "metadata": {
    "ExecuteTime": {
     "end_time": "2025-04-04T12:42:13.683617Z",
     "start_time": "2025-04-04T12:42:13.679468Z"
    }
   },
   "cell_type": "code",
   "source": "print(torch.randn(3, 4))",
   "id": "6be45ed6b6e6f4dc",
   "outputs": [
    {
     "name": "stdout",
     "output_type": "stream",
     "text": [
      "tensor([[-1.1320, -0.1156, -0.2125, -0.7168],\n",
      "        [ 0.2373, -0.1095,  1.3252,  0.3607],\n",
      "        [ 2.1485,  0.6303, -0.3436,  0.4808]])\n"
     ]
    }
   ],
   "execution_count": 131
  },
  {
   "metadata": {
    "ExecuteTime": {
     "end_time": "2025-04-04T12:42:13.734242Z",
     "start_time": "2025-04-04T12:42:13.729579Z"
    }
   },
   "cell_type": "code",
   "source": "print(torch.tensor([[2, 1, 4, 3], [1, 2, 3, 4], [4, 3, 2, 1]])) # explicitly set values from python array",
   "id": "ae8aebbd02c3de4d",
   "outputs": [
    {
     "name": "stdout",
     "output_type": "stream",
     "text": [
      "tensor([[2, 1, 4, 3],\n",
      "        [1, 2, 3, 4],\n",
      "        [4, 3, 2, 1]])\n"
     ]
    }
   ],
   "execution_count": 132
  },
  {
   "metadata": {},
   "cell_type": "markdown",
   "source": "## Operations",
   "id": "a9276ca0ee19a5ff"
  },
  {
   "metadata": {
    "ExecuteTime": {
     "end_time": "2025-04-04T12:42:13.786657Z",
     "start_time": "2025-04-04T12:42:13.781691Z"
    }
   },
   "cell_type": "code",
   "source": [
    "X[:2, :] = 12 # spremeni range elementov; v tem primeru vse vrstice pred drugo (0-based) in vse stolpce\n",
    "print(X)"
   ],
   "id": "8dce6676cf8b28c",
   "outputs": [
    {
     "name": "stdout",
     "output_type": "stream",
     "text": [
      "tensor([[12., 12., 12., 12.],\n",
      "        [12., 12., 12., 12.],\n",
      "        [ 8.,  9., 10., 11.]])\n"
     ]
    }
   ],
   "execution_count": 133
  },
  {
   "metadata": {},
   "cell_type": "markdown",
   "source": "*Elementwise* scalar operations: operacije ki se izvedejo na vseh elemenitih. Preslikava ki vsak element preslika v nekaj.",
   "id": "8469749c72d96623"
  },
  {
   "metadata": {
    "ExecuteTime": {
     "end_time": "2025-04-04T12:42:13.839205Z",
     "start_time": "2025-04-04T12:42:13.833813Z"
    }
   },
   "cell_type": "code",
   "source": "torch.exp(x)",
   "id": "30e040f577308eff",
   "outputs": [
    {
     "data": {
      "text/plain": [
       "tensor([162754.7969, 162754.7969, 162754.7969, 162754.7969, 162754.7969,\n",
       "        162754.7969, 162754.7969, 162754.7969,   2980.9580,   8103.0840,\n",
       "         22026.4648,  59874.1406])"
      ]
     },
     "execution_count": 134,
     "metadata": {},
     "output_type": "execute_result"
    }
   ],
   "execution_count": 134
  },
  {
   "metadata": {},
   "cell_type": "markdown",
   "source": "*Binary* scalar operations: operacije ki preslikajo vektorski par (enakih velikosti) v nek skalar.",
   "id": "3107b7de7ede4a4d"
  },
  {
   "metadata": {
    "ExecuteTime": {
     "end_time": "2025-04-04T12:42:13.892846Z",
     "start_time": "2025-04-04T12:42:13.884603Z"
    }
   },
   "cell_type": "code",
   "source": [
    "x = torch.tensor([1.0, 2, 4, 8])\n",
    "y = torch.tensor([2, 2, 2, 2])\n",
    "\n",
    "(x + y,\n",
    " x - y,\n",
    " x * y,\n",
    " x / y,\n",
    " x ** y)"
   ],
   "id": "76c1b36ab7f1bf0d",
   "outputs": [
    {
     "data": {
      "text/plain": [
       "(tensor([ 3.,  4.,  6., 10.]),\n",
       " tensor([-1.,  0.,  2.,  6.]),\n",
       " tensor([ 2.,  4.,  8., 16.]),\n",
       " tensor([0.5000, 1.0000, 2.0000, 4.0000]),\n",
       " tensor([ 1.,  4., 16., 64.]))"
      ]
     },
     "execution_count": 135,
     "metadata": {},
     "output_type": "execute_result"
    }
   ],
   "execution_count": 135
  },
  {
   "metadata": {},
   "cell_type": "markdown",
   "source": [
    "Konkatenacija dveh vektorjev. Podamo po kateri *axis* (dim) naj ju zlepi skupaj.\n",
    "dim=0 pomeni po vrsticah, dim=1 pomeni po stolpcih."
   ],
   "id": "d39d47923ee64817"
  },
  {
   "metadata": {
    "ExecuteTime": {
     "end_time": "2025-04-04T12:42:13.940796Z",
     "start_time": "2025-04-04T12:42:13.935617Z"
    }
   },
   "cell_type": "code",
   "source": [
    "X = torch.arange(12, dtype=torch.float32).reshape((3,4))\n",
    "Y = torch.tensor([[2.0, 1, 4, 3], [1, 2, 3, 4], [4, 3, 2, 1]])\n",
    "\n",
    "print(torch.cat((X, Y), dim=0))"
   ],
   "id": "5bf9d263def24509",
   "outputs": [
    {
     "name": "stdout",
     "output_type": "stream",
     "text": [
      "tensor([[ 0.,  1.,  2.,  3.],\n",
      "        [ 4.,  5.,  6.,  7.],\n",
      "        [ 8.,  9., 10., 11.],\n",
      "        [ 2.,  1.,  4.,  3.],\n",
      "        [ 1.,  2.,  3.,  4.],\n",
      "        [ 4.,  3.,  2.,  1.]])\n"
     ]
    }
   ],
   "execution_count": 136
  },
  {
   "metadata": {
    "ExecuteTime": {
     "end_time": "2025-04-04T12:42:13.992327Z",
     "start_time": "2025-04-04T12:42:13.987414Z"
    }
   },
   "cell_type": "code",
   "source": "print(torch.cat((X, Y), dim=1))",
   "id": "122a38c092b2ea13",
   "outputs": [
    {
     "name": "stdout",
     "output_type": "stream",
     "text": [
      "tensor([[ 0.,  1.,  2.,  3.,  2.,  1.,  4.,  3.],\n",
      "        [ 4.,  5.,  6.,  7.,  1.,  2.,  3.,  4.],\n",
      "        [ 8.,  9., 10., 11.,  4.,  3.,  2.,  1.]])\n"
     ]
    }
   ],
   "execution_count": 137
  },
  {
   "metadata": {
    "ExecuteTime": {
     "end_time": "2025-04-04T12:42:14.043879Z",
     "start_time": "2025-04-04T12:42:14.040224Z"
    }
   },
   "cell_type": "code",
   "source": "print(X == Y)",
   "id": "bd91694799b04c8c",
   "outputs": [
    {
     "name": "stdout",
     "output_type": "stream",
     "text": [
      "tensor([[False,  True, False,  True],\n",
      "        [False, False, False, False],\n",
      "        [False, False, False, False]])\n"
     ]
    }
   ],
   "execution_count": 138
  },
  {
   "metadata": {
    "ExecuteTime": {
     "end_time": "2025-04-04T12:42:14.095272Z",
     "start_time": "2025-04-04T12:42:14.091086Z"
    }
   },
   "cell_type": "code",
   "source": "X.sum()",
   "id": "5af75064a762bc14",
   "outputs": [
    {
     "data": {
      "text/plain": [
       "tensor(66.)"
      ]
     },
     "execution_count": 139,
     "metadata": {},
     "output_type": "execute_result"
    }
   ],
   "execution_count": 139
  },
  {
   "metadata": {},
   "cell_type": "markdown",
   "source": "## Conversion between python objects",
   "id": "f61fd87f036b2330"
  },
  {
   "metadata": {
    "ExecuteTime": {
     "end_time": "2025-04-04T12:42:14.152758Z",
     "start_time": "2025-04-04T12:42:14.140423Z"
    }
   },
   "cell_type": "code",
   "source": [
    "A = X.numpy()\n",
    "print(A)"
   ],
   "id": "3c2905f238e58ce2",
   "outputs": [
    {
     "name": "stdout",
     "output_type": "stream",
     "text": [
      "[[ 0.  1.  2.  3.]\n",
      " [ 4.  5.  6.  7.]\n",
      " [ 8.  9. 10. 11.]]\n"
     ]
    }
   ],
   "execution_count": 140
  },
  {
   "metadata": {
    "ExecuteTime": {
     "end_time": "2025-04-04T12:42:14.204100Z",
     "start_time": "2025-04-04T12:42:14.199592Z"
    }
   },
   "cell_type": "code",
   "source": [
    "B = torch.from_numpy(A)\n",
    "print(B)"
   ],
   "id": "fffe8e8e9d172c47",
   "outputs": [
    {
     "name": "stdout",
     "output_type": "stream",
     "text": [
      "tensor([[ 0.,  1.,  2.,  3.],\n",
      "        [ 4.,  5.,  6.,  7.],\n",
      "        [ 8.,  9., 10., 11.]])\n"
     ]
    }
   ],
   "execution_count": 141
  },
  {
   "metadata": {
    "ExecuteTime": {
     "end_time": "2025-04-04T12:42:14.255403Z",
     "start_time": "2025-04-04T12:42:14.251414Z"
    }
   },
   "cell_type": "code",
   "source": "type(A), type(B)",
   "id": "ba5d3fba6a3cafdf",
   "outputs": [
    {
     "data": {
      "text/plain": [
       "(numpy.ndarray, torch.Tensor)"
      ]
     },
     "execution_count": 142,
     "metadata": {},
     "output_type": "execute_result"
    }
   ],
   "execution_count": 142
  },
  {
   "metadata": {
    "ExecuteTime": {
     "end_time": "2025-04-04T12:42:14.307324Z",
     "start_time": "2025-04-04T12:42:14.302765Z"
    }
   },
   "cell_type": "code",
   "source": [
    "a = torch.tensor([3.5])\n",
    "a, a.item(), float(a), int(a) # dela samo za size-1 tensors"
   ],
   "id": "a280f32382011b2d",
   "outputs": [
    {
     "data": {
      "text/plain": [
       "(tensor([3.5000]), 3.5, 3.5, 3)"
      ]
     },
     "execution_count": 143,
     "metadata": {},
     "output_type": "execute_result"
    }
   ],
   "execution_count": 143
  },
  {
   "metadata": {},
   "cell_type": "markdown",
   "source": "",
   "id": "47d8b14860a1fd19"
  },
  {
   "metadata": {},
   "cell_type": "markdown",
   "source": [
    "## 2.1.8. Exercises\n",
    "\n",
    "Run the code in this section.\n",
    "\n",
    "1. Change the conditional statement X == Y to X < Y or X > Y, and then see what kind of tensor you can get.\n",
    "2. Replace the two tensors that operate by element in the broadcasting mechanism with other shapes, e.g., 3-dimensional tensors. Is the result the same as expected?"
   ],
   "id": "2f1e9be621751262"
  },
  {
   "metadata": {
    "ExecuteTime": {
     "end_time": "2025-04-04T12:42:14.359976Z",
     "start_time": "2025-04-04T12:42:14.354843Z"
    }
   },
   "cell_type": "code",
   "source": "X < Y, X > Y",
   "id": "7d87951c731a096",
   "outputs": [
    {
     "data": {
      "text/plain": [
       "(tensor([[ True, False,  True, False],\n",
       "         [False, False, False, False],\n",
       "         [False, False, False, False]]),\n",
       " tensor([[False, False, False, False],\n",
       "         [ True,  True,  True,  True],\n",
       "         [ True,  True,  True,  True]]))"
      ]
     },
     "execution_count": 144,
     "metadata": {},
     "output_type": "execute_result"
    }
   ],
   "execution_count": 144
  },
  {
   "metadata": {
    "ExecuteTime": {
     "end_time": "2025-04-04T12:42:14.410300Z",
     "start_time": "2025-04-04T12:42:14.405492Z"
    }
   },
   "cell_type": "code",
   "source": [
    "a = torch.arange(3).reshape((3, 1))\n",
    "b = torch.arange(2).reshape((1, 2))\n",
    "a, b"
   ],
   "id": "f91260f88f1367b7",
   "outputs": [
    {
     "data": {
      "text/plain": [
       "(tensor([[0],\n",
       "         [1],\n",
       "         [2]]),\n",
       " tensor([[0, 1]]))"
      ]
     },
     "execution_count": 145,
     "metadata": {},
     "output_type": "execute_result"
    }
   ],
   "execution_count": 145
  },
  {
   "metadata": {
    "ExecuteTime": {
     "end_time": "2025-04-04T12:42:14.458744Z",
     "start_time": "2025-04-04T12:42:14.455059Z"
    }
   },
   "cell_type": "code",
   "source": "print(a + b)",
   "id": "dc9392344a5145bb",
   "outputs": [
    {
     "name": "stdout",
     "output_type": "stream",
     "text": [
      "tensor([[0, 1],\n",
      "        [1, 2],\n",
      "        [2, 3]])\n"
     ]
    }
   ],
   "execution_count": 146
  },
  {
   "metadata": {},
   "cell_type": "markdown",
   "source": "V bistvu se $a$ podaljša po stolpcih, $b$ pa po vrsticah.",
   "id": "d0630396e1d949ae"
  },
  {
   "metadata": {
    "ExecuteTime": {
     "end_time": "2025-04-04T12:42:14.507985Z",
     "start_time": "2025-04-04T12:42:14.504066Z"
    }
   },
   "cell_type": "code",
   "source": [
    "aa = torch.tensor([[0,0],\n",
    "                   [1,1],\n",
    "                   [2,2]])\n",
    "bb = torch.tensor([[0,1],\n",
    "                   [0,1],\n",
    "                   [0,1]])\n",
    "print(aa + bb)"
   ],
   "id": "cef3cd85be39126b",
   "outputs": [
    {
     "name": "stdout",
     "output_type": "stream",
     "text": [
      "tensor([[0, 1],\n",
      "        [1, 2],\n",
      "        [2, 3]])\n"
     ]
    }
   ],
   "execution_count": 147
  }
 ],
 "metadata": {
  "kernelspec": {
   "display_name": "Python 3",
   "language": "python",
   "name": "python3"
  },
  "language_info": {
   "codemirror_mode": {
    "name": "ipython",
    "version": 2
   },
   "file_extension": ".py",
   "mimetype": "text/x-python",
   "name": "python",
   "nbconvert_exporter": "python",
   "pygments_lexer": "ipython2",
   "version": "2.7.6"
  }
 },
 "nbformat": 4,
 "nbformat_minor": 5
}
