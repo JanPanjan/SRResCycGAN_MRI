{
 "cells": [
  {
   "metadata": {},
   "cell_type": "markdown",
   "source": [
    "# Linear algebra\n",
    "\n",
    "- Oftentimes, the word “dimension” gets overloaded to mean both the number of axes and the length along a particular axis.\n",
    "  To avoid this confusion, we use **order** to refer to the number of axes and **dimensionality** exclusively to refer to the number of components."
   ],
   "id": "3f813d5f3fe337f"
  },
  {
   "metadata": {
    "ExecuteTime": {
     "end_time": "2025-04-04T12:42:02.097001Z",
     "start_time": "2025-04-04T12:42:00.870436Z"
    }
   },
   "cell_type": "code",
   "source": "import torch",
   "id": "5b582dbe06c81089",
   "outputs": [],
   "execution_count": 1
  },
  {
   "metadata": {
    "ExecuteTime": {
     "end_time": "2025-04-04T12:42:02.114957Z",
     "start_time": "2025-04-04T12:42:02.102039Z"
    }
   },
   "cell_type": "code",
   "source": [
    "A = torch.arange(6).reshape(3, 2)\n",
    "print(A)"
   ],
   "id": "ecb8b3413b2c58fc",
   "outputs": [
    {
     "name": "stdout",
     "output_type": "stream",
     "text": [
      "tensor([[0, 1],\n",
      "        [2, 3],\n",
      "        [4, 5]])\n"
     ]
    }
   ],
   "execution_count": 2
  },
  {
   "metadata": {
    "ExecuteTime": {
     "end_time": "2025-04-04T12:42:02.257565Z",
     "start_time": "2025-04-04T12:42:02.254495Z"
    }
   },
   "cell_type": "code",
   "source": "print(A.T) # transposed A",
   "id": "63cf03f5b5bf7aa3",
   "outputs": [
    {
     "name": "stdout",
     "output_type": "stream",
     "text": [
      "tensor([[0, 2, 4],\n",
      "        [1, 3, 5]])\n"
     ]
    }
   ],
   "execution_count": 3
  },
  {
   "metadata": {},
   "cell_type": "markdown",
   "source": [
    "3rd-order tensors so pomembni za image processing - height, width, channel (intenzitete red, blue in green barv). Še več, kolekcija slik je zapakirana v 4th-order tensorju,\n",
    "kjer so posamezne slike razporejene vzdolž prve osi."
   ],
   "id": "3a60c8fee35b9254"
  },
  {
   "metadata": {
    "ExecuteTime": {
     "end_time": "2025-04-04T12:42:02.314038Z",
     "start_time": "2025-04-04T12:42:02.308053Z"
    }
   },
   "cell_type": "code",
   "source": "torch.arange(24).reshape(2, 3, 4)",
   "id": "8643fe753f504c01",
   "outputs": [
    {
     "data": {
      "text/plain": [
       "tensor([[[ 0,  1,  2,  3],\n",
       "         [ 4,  5,  6,  7],\n",
       "         [ 8,  9, 10, 11]],\n",
       "\n",
       "        [[12, 13, 14, 15],\n",
       "         [16, 17, 18, 19],\n",
       "         [20, 21, 22, 23]]])"
      ]
     },
     "execution_count": 4,
     "metadata": {},
     "output_type": "execute_result"
    }
   ],
   "execution_count": 4
  },
  {
   "metadata": {},
   "cell_type": "markdown",
   "source": "## Reduction",
   "id": "ca2f3a5295247699"
  },
  {
   "metadata": {
    "ExecuteTime": {
     "end_time": "2025-04-04T12:42:02.380655Z",
     "start_time": "2025-04-04T12:42:02.373677Z"
    }
   },
   "cell_type": "code",
   "source": [
    "A = torch.arange(6, dtype=torch.float32).reshape(2, 3)\n",
    "B = A.clone()  # Assign a copy of A to B by allocating new memory\n",
    "A, A + B"
   ],
   "id": "87a27d329e2aa16d",
   "outputs": [
    {
     "data": {
      "text/plain": [
       "(tensor([[0., 1., 2.],\n",
       "         [3., 4., 5.]]),\n",
       " tensor([[ 0.,  2.,  4.],\n",
       "         [ 6.,  8., 10.]]))"
      ]
     },
     "execution_count": 5,
     "metadata": {},
     "output_type": "execute_result"
    }
   ],
   "execution_count": 5
  },
  {
   "metadata": {
    "ExecuteTime": {
     "end_time": "2025-04-04T12:42:02.428461Z",
     "start_time": "2025-04-04T12:42:02.423855Z"
    }
   },
   "cell_type": "code",
   "source": "A.sum(axis=0), A.sum(axis=0).shape #axis=0 da naredi vsoto columnwise",
   "id": "64d9cf5810437832",
   "outputs": [
    {
     "data": {
      "text/plain": [
       "(tensor([3., 5., 7.]), torch.Size([3]))"
      ]
     },
     "execution_count": 6,
     "metadata": {},
     "output_type": "execute_result"
    }
   ],
   "execution_count": 6
  },
  {
   "metadata": {
    "ExecuteTime": {
     "end_time": "2025-04-04T12:42:02.479919Z",
     "start_time": "2025-04-04T12:42:02.474155Z"
    }
   },
   "cell_type": "code",
   "source": "A.sum(axis=1), A.sum(axis=1).shape #axis=1 da naredi vsoto rowwise",
   "id": "eea74d7827f88925",
   "outputs": [
    {
     "data": {
      "text/plain": [
       "(tensor([ 3., 12.]), torch.Size([2]))"
      ]
     },
     "execution_count": 7,
     "metadata": {},
     "output_type": "execute_result"
    }
   ],
   "execution_count": 7
  },
  {
   "metadata": {
    "ExecuteTime": {
     "end_time": "2025-04-04T12:42:02.532113Z",
     "start_time": "2025-04-04T12:42:02.525733Z"
    }
   },
   "cell_type": "code",
   "source": "A.sum(axis=[0, 1]) == A.sum()  # Same as A.sum()",
   "id": "cb797ab419b89717",
   "outputs": [
    {
     "data": {
      "text/plain": [
       "tensor(True)"
      ]
     },
     "execution_count": 8,
     "metadata": {},
     "output_type": "execute_result"
    }
   ],
   "execution_count": 8
  },
  {
   "metadata": {
    "ExecuteTime": {
     "end_time": "2025-04-04T12:42:02.583681Z",
     "start_time": "2025-04-04T12:42:02.579159Z"
    }
   },
   "cell_type": "code",
   "source": "A.mean() == A.sum() / A.numel()",
   "id": "d3d8a02d0a67d044",
   "outputs": [
    {
     "data": {
      "text/plain": [
       "tensor(True)"
      ]
     },
     "execution_count": 9,
     "metadata": {},
     "output_type": "execute_result"
    }
   ],
   "execution_count": 9
  },
  {
   "metadata": {
    "ExecuteTime": {
     "end_time": "2025-04-04T12:42:02.637027Z",
     "start_time": "2025-04-04T12:42:02.632100Z"
    }
   },
   "cell_type": "code",
   "source": "A.mean(axis=0), A.mean(axis=1)",
   "id": "eecd5e623e63f9b6",
   "outputs": [
    {
     "data": {
      "text/plain": [
       "(tensor([1.5000, 2.5000, 3.5000]), tensor([1., 4.]))"
      ]
     },
     "execution_count": 10,
     "metadata": {},
     "output_type": "execute_result"
    }
   ],
   "execution_count": 10
  },
  {
   "metadata": {},
   "cell_type": "markdown",
   "source": "## Non-reduction sum",
   "id": "ec4b6f89da9fe2be"
  },
  {
   "metadata": {},
   "cell_type": "markdown",
   "source": [
    "Sometimes it can be useful to keep the number of axes unchanged when invoking the function for calculating the sum or mean.\n",
    "This matters when we want to use the broadcast mechanism."
   ],
   "id": "86bd637508efa5e9"
  },
  {
   "metadata": {
    "ExecuteTime": {
     "end_time": "2025-04-04T12:42:02.686708Z",
     "start_time": "2025-04-04T12:42:02.682284Z"
    }
   },
   "cell_type": "code",
   "source": [
    "sum_A = A.sum(axis=1, keepdims=True)\n",
    "sum_A, sum_A.shape"
   ],
   "id": "f3502178037c35f8",
   "outputs": [
    {
     "data": {
      "text/plain": [
       "(tensor([[ 3.],\n",
       "         [12.]]),\n",
       " torch.Size([2, 1]))"
      ]
     },
     "execution_count": 11,
     "metadata": {},
     "output_type": "execute_result"
    }
   ],
   "execution_count": 11
  },
  {
   "metadata": {},
   "cell_type": "markdown",
   "source": [
    "For instance, since sum_A keeps its two axes after summing each row, we can divide A by sum_A with broadcasting to create a matrix\n",
    "where each row sums up to 1."
   ],
   "id": "d82f825e2f7b0314"
  },
  {
   "metadata": {
    "ExecuteTime": {
     "end_time": "2025-04-04T12:42:02.737380Z",
     "start_time": "2025-04-04T12:42:02.733506Z"
    }
   },
   "cell_type": "code",
   "source": "print(A / sum_A)",
   "id": "27bcb5a9e924bf74",
   "outputs": [
    {
     "name": "stdout",
     "output_type": "stream",
     "text": [
      "tensor([[0.0000, 0.3333, 0.6667],\n",
      "        [0.2500, 0.3333, 0.4167]])\n"
     ]
    }
   ],
   "execution_count": 12
  },
  {
   "metadata": {},
   "cell_type": "markdown",
   "source": "## Dot-products",
   "id": "b479ca294d469949"
  },
  {
   "metadata": {
    "ExecuteTime": {
     "end_time": "2025-04-04T12:42:02.790461Z",
     "start_time": "2025-04-04T12:42:02.783609Z"
    }
   },
   "cell_type": "code",
   "source": [
    "x = torch.arange(3, dtype=torch.float32)\n",
    "y = torch.ones(3, dtype = torch.float32)\n",
    "x, y, torch.dot(x, y) # 0x1+1x1+2x1=3"
   ],
   "id": "30c8100fc11a396d",
   "outputs": [
    {
     "data": {
      "text/plain": [
       "(tensor([0., 1., 2.]), tensor([1., 1., 1.]), tensor(3.))"
      ]
     },
     "execution_count": 13,
     "metadata": {},
     "output_type": "execute_result"
    }
   ],
   "execution_count": 13
  },
  {
   "metadata": {},
   "cell_type": "markdown",
   "source": "Equivalently, we can calculate the dot product of two vectors by performing an elementwise multiplication followed by a sum:",
   "id": "25d4d1a18a0fcae1"
  },
  {
   "metadata": {
    "ExecuteTime": {
     "end_time": "2025-04-04T12:42:02.842131Z",
     "start_time": "2025-04-04T12:42:02.837231Z"
    }
   },
   "cell_type": "code",
   "source": "torch.sum(x * y)",
   "id": "6df972d0703546c2",
   "outputs": [
    {
     "data": {
      "text/plain": [
       "tensor(3.)"
      ]
     },
     "execution_count": 14,
     "metadata": {},
     "output_type": "execute_result"
    }
   ],
   "execution_count": 14
  },
  {
   "metadata": {},
   "cell_type": "markdown",
   "source": [
    "## Matrix-vector product\n",
    "\n",
    "A's column count must be the same as x's length."
   ],
   "id": "a7344a7e7396b68d"
  },
  {
   "metadata": {
    "ExecuteTime": {
     "end_time": "2025-04-04T12:42:02.898248Z",
     "start_time": "2025-04-04T12:42:02.890437Z"
    }
   },
   "cell_type": "code",
   "source": "A.shape, x.shape, torch.mv(A, x), A@x # mv=matrix-vector",
   "id": "3723b312d2edf24",
   "outputs": [
    {
     "data": {
      "text/plain": [
       "(torch.Size([2, 3]), torch.Size([3]), tensor([ 5., 14.]), tensor([ 5., 14.]))"
      ]
     },
     "execution_count": 15,
     "metadata": {},
     "output_type": "execute_result"
    }
   ],
   "execution_count": 15
  },
  {
   "metadata": {},
   "cell_type": "markdown",
   "source": [
    "## Matrix-matrix multiplication\n",
    "\n",
    "Since A has shape [2,3], B must be of shape [3,n] for multiplication to be defined."
   ],
   "id": "e8e7dcbc72f3a6c7"
  },
  {
   "metadata": {
    "ExecuteTime": {
     "end_time": "2025-04-04T12:42:02.950479Z",
     "start_time": "2025-04-04T12:42:02.943814Z"
    }
   },
   "cell_type": "code",
   "source": [
    "B = torch.ones(3, 4)\n",
    "torch.mm(A, B), A@B # mm = matrix-matrix"
   ],
   "id": "ce847001c7b075d5",
   "outputs": [
    {
     "data": {
      "text/plain": [
       "(tensor([[ 3.,  3.,  3.,  3.],\n",
       "         [12., 12., 12., 12.]]),\n",
       " tensor([[ 3.,  3.,  3.,  3.],\n",
       "         [12., 12., 12., 12.]]))"
      ]
     },
     "execution_count": 16,
     "metadata": {},
     "output_type": "execute_result"
    }
   ],
   "execution_count": 16
  }
 ],
 "metadata": {
  "kernelspec": {
   "display_name": "Python 3",
   "language": "python",
   "name": "python3"
  },
  "language_info": {
   "codemirror_mode": {
    "name": "ipython",
    "version": 2
   },
   "file_extension": ".py",
   "mimetype": "text/x-python",
   "name": "python",
   "nbconvert_exporter": "python",
   "pygments_lexer": "ipython2",
   "version": "2.7.6"
  }
 },
 "nbformat": 4,
 "nbformat_minor": 5
}
