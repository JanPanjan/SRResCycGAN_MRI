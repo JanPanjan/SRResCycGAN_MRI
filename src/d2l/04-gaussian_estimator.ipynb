{
 "cells": [
  {
   "cell_type": "code",
   "id": "initial_id",
   "metadata": {
    "collapsed": true,
    "ExecuteTime": {
     "end_time": "2025-04-06T17:12:37.568372Z",
     "start_time": "2025-04-06T17:12:36.034820Z"
    }
   },
   "source": "import torch",
   "outputs": [],
   "execution_count": 1
  },
  {
   "metadata": {},
   "cell_type": "markdown",
   "source": [
    "`torch.normal` sprejme 3 parametre:\n",
    "- mean\n",
    "- standard deviation\n",
    "- shape v obliki tuple (nrow, ncol)\n",
    "\n",
    "Vrednosti so naključno izbrane iz normalne porazdelitve.\n",
    "Spodaj je prikazano, kako se z večanjem števila elementov približuje mean podanem mean in std podanem std."
   ],
   "id": "defdad95cfcf6281"
  },
  {
   "metadata": {
    "ExecuteTime": {
     "end_time": "2025-04-06T17:28:06.257705Z",
     "start_time": "2025-04-06T17:27:59.689956Z"
    }
   },
   "cell_type": "code",
   "source": [
    "n = [10, 100, 1_000, 10_000, 100_000, 1_000_000, 1_000_000_000]\n",
    "for N in n:\n",
    "    example = torch.normal(5, 1, (N,))\n",
    "    print(f\"N: {N}\\nmean: {example.mean()}\\nstd: {example.std()}\\n\")"
   ],
   "id": "d6b5872baa4d17e9",
   "outputs": [
    {
     "name": "stdout",
     "output_type": "stream",
     "text": [
      "N: 10\n",
      "mean: 4.845417022705078\n",
      "std: 0.6625586748123169\n",
      "\n",
      "N: 100\n",
      "mean: 5.092818260192871\n",
      "std: 1.005924105644226\n",
      "\n",
      "N: 1000\n",
      "mean: 5.025435924530029\n",
      "std: 1.0202229022979736\n",
      "\n",
      "N: 10000\n",
      "mean: 4.995221138000488\n",
      "std: 0.9918829202651978\n",
      "\n",
      "N: 100000\n",
      "mean: 4.996700763702393\n",
      "std: 0.9979649782180786\n",
      "\n",
      "N: 1000000\n",
      "mean: 4.99879789352417\n",
      "std: 0.9994298219680786\n",
      "\n",
      "N: 1000000000\n",
      "mean: 5.000039100646973\n",
      "std: 1.0000309944152832\n",
      "\n"
     ]
    }
   ],
   "execution_count": 21
  },
  {
   "metadata": {
    "ExecuteTime": {
     "end_time": "2025-04-06T17:23:16.774029Z",
     "start_time": "2025-04-06T17:23:16.767058Z"
    }
   },
   "cell_type": "code",
   "source": [
    "X = torch.normal(0.0, 1, (1000, 2))\n",
    "print(X)"
   ],
   "id": "70fd9421fb541b94",
   "outputs": [
    {
     "name": "stdout",
     "output_type": "stream",
     "text": [
      "tensor([[-0.9214,  1.2679],\n",
      "        [-1.5997,  0.6377],\n",
      "        [ 1.8120, -0.4449],\n",
      "        ...,\n",
      "        [ 0.2039,  1.6118],\n",
      "        [ 0.4529,  0.3196],\n",
      "        [-1.1164,  0.2076]])\n"
     ]
    }
   ],
   "execution_count": 5
  },
  {
   "metadata": {},
   "cell_type": "code",
   "outputs": [],
   "execution_count": null,
   "source": "",
   "id": "ed74412561f1ccc8"
  }
 ],
 "metadata": {
  "kernelspec": {
   "display_name": "Python 3",
   "language": "python",
   "name": "python3"
  },
  "language_info": {
   "codemirror_mode": {
    "name": "ipython",
    "version": 2
   },
   "file_extension": ".py",
   "mimetype": "text/x-python",
   "name": "python",
   "nbconvert_exporter": "python",
   "pygments_lexer": "ipython2",
   "version": "2.7.6"
  }
 },
 "nbformat": 4,
 "nbformat_minor": 5
}
