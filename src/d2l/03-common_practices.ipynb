{
 "cells": [
  {
   "metadata": {
    "ExecuteTime": {
     "end_time": "2025-04-05T21:03:09.907745Z",
     "start_time": "2025-04-05T21:03:09.905175Z"
    }
   },
   "cell_type": "code",
   "source": [
    "import torch\n",
    "import time\n",
    "import math"
   ],
   "id": "b61d7704ead40971",
   "outputs": [],
   "execution_count": 37
  },
  {
   "metadata": {},
   "cell_type": "markdown",
   "source": [
    "# Common practices\n",
    "\n",
    "## Vectorization for speed\n",
    "\n",
    "When training our models, we typically want to process whole minibatches of examples si-\n",
    "multaneously. Doing this efficiently requires that we vectorize the calculations and leverage\n",
    "fast linear algebra libraries rather than writing costly for-loops in Python.\n",
    "\n",
    "### 1st method - for loop"
   ],
   "id": "9b1e0b68da40efbf"
  },
  {
   "metadata": {
    "ExecuteTime": {
     "end_time": "2025-04-05T20:55:12.583050Z",
     "start_time": "2025-04-05T20:55:12.579665Z"
    }
   },
   "cell_type": "code",
   "source": [
    "n = 10_000\n",
    "a = torch.ones(n)\n",
    "b = torch.ones(n)"
   ],
   "id": "a2594af3ac2d40b2",
   "outputs": [],
   "execution_count": 6
  },
  {
   "metadata": {},
   "cell_type": "markdown",
   "source": [
    "- `c` is the vector of new summed up values\n",
    "- `N` is the number of runs we'll do\n",
    "- `times` will store time taken for run $i \\in [1, N]$"
   ],
   "id": "c492a6a21599f732"
  },
  {
   "metadata": {
    "ExecuteTime": {
     "end_time": "2025-04-05T21:04:49.746189Z",
     "start_time": "2025-04-05T21:04:49.741372Z"
    }
   },
   "cell_type": "code",
   "source": [
    "c = torch.zeros(n)\n",
    "N = 50\n",
    "times = [0] * N"
   ],
   "id": "f09ab7e951ad6054",
   "outputs": [],
   "execution_count": 39
  },
  {
   "metadata": {
    "ExecuteTime": {
     "end_time": "2025-04-05T21:07:01.445150Z",
     "start_time": "2025-04-05T21:06:57.628324Z"
    }
   },
   "cell_type": "code",
   "source": [
    "for j in range(N):\n",
    "    t = time.time()\n",
    "    for i in range(n):\n",
    "        c[i] = a[i] + b[i]\n",
    "    times[j] = time.time() - t"
   ],
   "id": "7a829355baab90ca",
   "outputs": [],
   "execution_count": 51
  },
  {
   "metadata": {
    "ExecuteTime": {
     "end_time": "2025-04-05T21:07:03.443696Z",
     "start_time": "2025-04-05T21:07:03.439388Z"
    }
   },
   "cell_type": "code",
   "source": "sum(times) / len(times)",
   "id": "f1da3300f640a86d",
   "outputs": [
    {
     "data": {
      "text/plain": [
       "0.07626757144927979"
      ]
     },
     "execution_count": 53,
     "metadata": {},
     "output_type": "execute_result"
    }
   ],
   "execution_count": 53
  },
  {
   "metadata": {},
   "cell_type": "markdown",
   "source": "### 2nd method - single call to `+`",
   "id": "de35d2e4be9cc79a"
  },
  {
   "metadata": {
    "ExecuteTime": {
     "end_time": "2025-04-05T21:08:23.629947Z",
     "start_time": "2025-04-05T21:08:23.625181Z"
    }
   },
   "cell_type": "code",
   "source": [
    "t = time.time()\n",
    "d = a + b\n",
    "f'{time.time() - t:.5f} sec'"
   ],
   "id": "6ec324150e5b84d9",
   "outputs": [
    {
     "data": {
      "text/plain": [
       "'0.00066 sec'"
      ]
     },
     "execution_count": 65,
     "metadata": {},
     "output_type": "execute_result"
    }
   ],
   "execution_count": 65
  }
 ],
 "metadata": {
  "kernelspec": {
   "display_name": "Python 3",
   "language": "python",
   "name": "python3"
  },
  "language_info": {
   "codemirror_mode": {
    "name": "ipython",
    "version": 2
   },
   "file_extension": ".py",
   "mimetype": "text/x-python",
   "name": "python",
   "nbconvert_exporter": "python",
   "pygments_lexer": "ipython2",
   "version": "2.7.6"
  }
 },
 "nbformat": 4,
 "nbformat_minor": 5
}
