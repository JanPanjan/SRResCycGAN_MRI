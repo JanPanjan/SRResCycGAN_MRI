{
 "cells": [
  {
   "cell_type": "code",
   "id": "d153aa4b05779d6c",
   "metadata": {},
   "source": "import itertools",
   "execution_count": null,
   "outputs": []
  },
  {
   "metadata": {
    "ExecuteTime": {
     "end_time": "2025-05-25T15:38:34.537265Z",
     "start_time": "2025-05-25T15:38:34.532129Z"
    }
   },
   "cell_type": "code",
   "source": [
    "def generate_binary_variations(list_length: int, num_ones: int) -> list[list[int]]:\n",
    "    if not (0 <= num_ones <= list_length):\n",
    "        raise ValueError(\"Invalid input: more ones than list length\")\n",
    "\n",
    "    variations = set()\n",
    "\n",
    "    for one_positions in itertools.combinations(range(list_length), num_ones):\n",
    "        current_list = [0] * list_length\n",
    "\n",
    "        for pos in one_positions:\n",
    "            current_list[pos] = 1\n",
    "\n",
    "        variations.add(tuple(current_list))\n",
    "\n",
    "    return [list(variation) for variation in variations]"
   ],
   "id": "5598ebe0a37d4805",
   "outputs": [],
   "execution_count": 52
  },
  {
   "metadata": {
    "ExecuteTime": {
     "end_time": "2025-05-25T15:38:35.785127Z",
     "start_time": "2025-05-25T15:38:35.780827Z"
    }
   },
   "cell_type": "code",
   "source": [
    "def build_binary_dataset() -> (list[list[int]], list[list[int]]):\n",
    "    images = []\n",
    "    labels = []\n",
    "    grid_size = 9\n",
    "\n",
    "    for ones in range(grid_size + 1):\n",
    "        variations = generate_binary_variations(grid_size, ones)\n",
    "        images.extend(variations)\n",
    "        labels.extend([ones] * len(variations))\n",
    "\n",
    "    return images, labels"
   ],
   "id": "b58790e0de1de5ce",
   "outputs": [],
   "execution_count": 53
  },
  {
   "metadata": {
    "ExecuteTime": {
     "end_time": "2025-05-25T15:40:46.772985Z",
     "start_time": "2025-05-25T15:40:46.766250Z"
    }
   },
   "cell_type": "code",
   "source": "raw_images, raw_labels = build_binary_dataset()",
   "id": "b1fddccda1a523cf",
   "outputs": [],
   "execution_count": 56
  },
  {
   "metadata": {
    "ExecuteTime": {
     "end_time": "2025-05-25T15:41:07.179853Z",
     "start_time": "2025-05-25T15:41:07.176046Z"
    }
   },
   "cell_type": "code",
   "source": [
    "import torch\n",
    "import numpy as np"
   ],
   "id": "809ea4f27e09f83b",
   "outputs": [],
   "execution_count": 57
  },
  {
   "metadata": {
    "ExecuteTime": {
     "end_time": "2025-05-25T15:52:07.790721Z",
     "start_time": "2025-05-25T15:52:07.785065Z"
    }
   },
   "cell_type": "code",
   "source": [
    "np_images = np.array(raw_images).reshape(-1, 3, 3)\n",
    "np_labels = np.array(raw_images)\n"
   ],
   "id": "e4aad4bb939415e6",
   "outputs": [],
   "execution_count": 70
  },
  {
   "metadata": {
    "ExecuteTime": {
     "end_time": "2025-05-25T15:54:32.138669Z",
     "start_time": "2025-05-25T15:54:32.134060Z"
    }
   },
   "cell_type": "code",
   "source": [
    "# add 1 dimensions for channel with unsqueeze (for convolutional layers)\n",
    "tensor_images = torch.from_numpy(np_images).unsqueeze(1).float()\n",
    "tensor_labels = torch.from_numpy(np_labels).long()"
   ],
   "id": "db5722cf48ffd97",
   "outputs": [],
   "execution_count": 76
  }
 ],
 "metadata": {
  "kernelspec": {
   "display_name": "Python 3",
   "language": "python",
   "name": "python3"
  },
  "language_info": {
   "codemirror_mode": {
    "name": "ipython",
    "version": 2
   },
   "file_extension": ".py",
   "mimetype": "text/x-python",
   "name": "python",
   "nbconvert_exporter": "python",
   "pygments_lexer": "ipython2",
   "version": "2.7.6"
  }
 },
 "nbformat": 4,
 "nbformat_minor": 5
}
